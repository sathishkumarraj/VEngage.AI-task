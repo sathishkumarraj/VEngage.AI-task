{
 "cells": [
  {
   "cell_type": "markdown",
   "id": "324ee139",
   "metadata": {},
   "source": [
    "# Problem 1: \n",
    "Write a method that reads phone book records from a CSV or JSON file \n",
    "Each record consists of the following parameters Name, email, Phone 1, Phone 2."
   ]
  },
  {
   "cell_type": "code",
   "execution_count": 1,
   "id": "8cea2446",
   "metadata": {},
   "outputs": [],
   "source": [
    "import csv"
   ]
  },
  {
   "cell_type": "code",
   "execution_count": 3,
   "id": "4ff4a601",
   "metadata": {},
   "outputs": [
    {
     "name": "stdout",
     "output_type": "stream",
     "text": [
      "{'Name': 'Karthika priyadharshini', 'Email': 'karthikapriya1@gmail.com', 'Phone 1': '8148642615', 'Phone 2': '6380278156'}\n",
      "{'Name': 'Aradhana', 'Email': 'Aradhana25@gmail.com', 'Phone 1': '9367906789', 'Phone 2': '7809875345'}\n",
      "{'Name': 'Parimala ', 'Email': 'parimala12@gmail.com', 'Phone 1': '8237569990', 'Phone 2': '8754907536'}\n",
      "{'Name': 'Pranesh', 'Email': 'pranesh1895@gmail.com', 'Phone 1': '9944489573', 'Phone 2': '9786543568'}\n",
      "{'Name': 'Baladhandapani', 'Email': 'bala1948@gmail.com', 'Phone 1': '8764904578', 'Phone 2': '9764285557'}\n",
      "{'Name': 'Yuvaraj', 'Email': 'raj211984@gmail.com', 'Phone 1': '8629076622', 'Phone 2': '9788207652'}\n",
      "{'Name': 'Shobana', 'Email': 'abc22@gmail.com', 'Phone 1': '9747734667', 'Phone 2': '7866695679'}\n",
      "{'Name': 'John', 'Email': 'john12@gmail.com', 'Phone 1': '8546890343', 'Phone 2': '9123457899'}\n",
      "{'Name': 'Roby', 'Email': 'roby34@gmail.com', 'Phone 1': '9765785767', 'Phone 2': '9567833988'}\n",
      "{'Name': 'valli', 'Email': 'valli009@gmail.com', 'Phone 1': '8394002022', 'Phone 2': '9034758992'}\n",
      "{'Name': 'savitha', 'Email': 'savi223@gmail.com', 'Phone 1': '8945459606', 'Phone 2': '9867333321'}\n"
     ]
    }
   ],
   "source": [
    "def read_csv(file_path):\n",
    "    \"\"\"\n",
    "    Reads a CSV file and returns the data as a list of dictionaries.\n",
    "    \n",
    "    Parameters:\n",
    "        file_path (str): The path to the CSV file.\n",
    "        \n",
    "    Returns:\n",
    "        list: A list of dictionaries where each dictionary represents a row in the CSV file.\n",
    "    \"\"\"\n",
    "    data = []\n",
    "\n",
    "    try:\n",
    "        with open(file_path, 'r') as file:\n",
    "            # Create a CSV reader object\n",
    "            csv_reader = csv.DictReader(file)\n",
    "            \n",
    "            # Iterate through each row in the CSV file\n",
    "            for row in csv_reader:\n",
    "                # Append each row as a dictionary to the data list\n",
    "                data.append(dict(row))\n",
    "                \n",
    "    except FileNotFoundError:\n",
    "        print(f\"Error: File not found at {file_path}\")\n",
    "    except Exception as e:\n",
    "        print(f\"Error reading CSV file: {e}\")\n",
    "\n",
    "    return data\n",
    "\n",
    "# Call the function:\n",
    "file_path = \"C:\\\\Users\\\\HP\\\\Desktop\\\\files of sessions\\\\Vengage_Assessment\\\\phone_book_records.csv\" # Path of CSV file from my pc\n",
    "csv_data = read_csv(file_path)\n",
    "\n",
    "# Display the read data\n",
    "for row in csv_data:\n",
    "    print(row)\n"
   ]
  },
  {
   "cell_type": "code",
   "execution_count": 4,
   "id": "9379b21c",
   "metadata": {},
   "outputs": [],
   "source": [
    "# Importing pandas for creating DataFrame\n",
    "import pandas as pd "
   ]
  },
  {
   "cell_type": "code",
   "execution_count": 5,
   "id": "4d803619",
   "metadata": {},
   "outputs": [
    {
     "data": {
      "text/html": [
       "<div>\n",
       "<style scoped>\n",
       "    .dataframe tbody tr th:only-of-type {\n",
       "        vertical-align: middle;\n",
       "    }\n",
       "\n",
       "    .dataframe tbody tr th {\n",
       "        vertical-align: top;\n",
       "    }\n",
       "\n",
       "    .dataframe thead th {\n",
       "        text-align: right;\n",
       "    }\n",
       "</style>\n",
       "<table border=\"1\" class=\"dataframe\">\n",
       "  <thead>\n",
       "    <tr style=\"text-align: right;\">\n",
       "      <th></th>\n",
       "      <th>Name</th>\n",
       "      <th>Email</th>\n",
       "      <th>Phone 1</th>\n",
       "      <th>Phone 2</th>\n",
       "    </tr>\n",
       "  </thead>\n",
       "  <tbody>\n",
       "    <tr>\n",
       "      <th>0</th>\n",
       "      <td>Karthika priyadharshini</td>\n",
       "      <td>karthikapriya1@gmail.com</td>\n",
       "      <td>8148642615</td>\n",
       "      <td>6380278156</td>\n",
       "    </tr>\n",
       "    <tr>\n",
       "      <th>1</th>\n",
       "      <td>Aradhana</td>\n",
       "      <td>Aradhana25@gmail.com</td>\n",
       "      <td>9367906789</td>\n",
       "      <td>7809875345</td>\n",
       "    </tr>\n",
       "    <tr>\n",
       "      <th>2</th>\n",
       "      <td>Parimala</td>\n",
       "      <td>parimala12@gmail.com</td>\n",
       "      <td>8237569990</td>\n",
       "      <td>8754907536</td>\n",
       "    </tr>\n",
       "    <tr>\n",
       "      <th>3</th>\n",
       "      <td>Pranesh</td>\n",
       "      <td>pranesh1895@gmail.com</td>\n",
       "      <td>9944489573</td>\n",
       "      <td>9786543568</td>\n",
       "    </tr>\n",
       "    <tr>\n",
       "      <th>4</th>\n",
       "      <td>Baladhandapani</td>\n",
       "      <td>bala1948@gmail.com</td>\n",
       "      <td>8764904578</td>\n",
       "      <td>9764285557</td>\n",
       "    </tr>\n",
       "    <tr>\n",
       "      <th>5</th>\n",
       "      <td>Yuvaraj</td>\n",
       "      <td>raj211984@gmail.com</td>\n",
       "      <td>8629076622</td>\n",
       "      <td>9788207652</td>\n",
       "    </tr>\n",
       "    <tr>\n",
       "      <th>6</th>\n",
       "      <td>Shobana</td>\n",
       "      <td>abc22@gmail.com</td>\n",
       "      <td>9747734667</td>\n",
       "      <td>7866695679</td>\n",
       "    </tr>\n",
       "    <tr>\n",
       "      <th>7</th>\n",
       "      <td>John</td>\n",
       "      <td>john12@gmail.com</td>\n",
       "      <td>8546890343</td>\n",
       "      <td>9123457899</td>\n",
       "    </tr>\n",
       "    <tr>\n",
       "      <th>8</th>\n",
       "      <td>Roby</td>\n",
       "      <td>roby34@gmail.com</td>\n",
       "      <td>9765785767</td>\n",
       "      <td>9567833988</td>\n",
       "    </tr>\n",
       "    <tr>\n",
       "      <th>9</th>\n",
       "      <td>valli</td>\n",
       "      <td>valli009@gmail.com</td>\n",
       "      <td>8394002022</td>\n",
       "      <td>9034758992</td>\n",
       "    </tr>\n",
       "    <tr>\n",
       "      <th>10</th>\n",
       "      <td>savitha</td>\n",
       "      <td>savi223@gmail.com</td>\n",
       "      <td>8945459606</td>\n",
       "      <td>9867333321</td>\n",
       "    </tr>\n",
       "  </tbody>\n",
       "</table>\n",
       "</div>"
      ],
      "text/plain": [
       "                       Name                     Email     Phone 1     Phone 2\n",
       "0   Karthika priyadharshini  karthikapriya1@gmail.com  8148642615  6380278156\n",
       "1                  Aradhana      Aradhana25@gmail.com  9367906789  7809875345\n",
       "2                 Parimala       parimala12@gmail.com  8237569990  8754907536\n",
       "3                   Pranesh     pranesh1895@gmail.com  9944489573  9786543568\n",
       "4            Baladhandapani        bala1948@gmail.com  8764904578  9764285557\n",
       "5                   Yuvaraj       raj211984@gmail.com  8629076622  9788207652\n",
       "6                   Shobana           abc22@gmail.com  9747734667  7866695679\n",
       "7                      John          john12@gmail.com  8546890343  9123457899\n",
       "8                      Roby          roby34@gmail.com  9765785767  9567833988\n",
       "9                     valli        valli009@gmail.com  8394002022  9034758992\n",
       "10                  savitha         savi223@gmail.com  8945459606  9867333321"
      ]
     },
     "execution_count": 5,
     "metadata": {},
     "output_type": "execute_result"
    }
   ],
   "source": [
    "Phone_Records=pd.DataFrame(csv_data)\n",
    "Phone_Records"
   ]
  },
  {
   "cell_type": "markdown",
   "id": "578095f2",
   "metadata": {},
   "source": [
    "# Problem 2:\n",
    "Implement a SQL-like parser for phone book records in Problem 1 to implement CRUD\n",
    "operations and print SQL like output on console."
   ]
  },
  {
   "cell_type": "markdown",
   "id": "36c275ca",
   "metadata": {},
   "source": [
    "# CONNECTION WITH MYSQL DATABASE & PYTHON"
   ]
  },
  {
   "cell_type": "code",
   "execution_count": 11,
   "id": "5e87b07a",
   "metadata": {},
   "outputs": [
    {
     "name": "stdout",
     "output_type": "stream",
     "text": [
      "Collecting pymysql\n",
      "  Obtaining dependency information for pymysql from https://files.pythonhosted.org/packages/e5/30/20467e39523d0cfc2b6227902d3687a16364307260c75e6a1cb4422b0c62/PyMySQL-1.1.0-py3-none-any.whl.metadata\n",
      "  Downloading PyMySQL-1.1.0-py3-none-any.whl.metadata (4.4 kB)\n",
      "Downloading PyMySQL-1.1.0-py3-none-any.whl (44 kB)\n",
      "   ---------------------------------------- 0.0/44.8 kB ? eta -:--:--\n",
      "   --------- ------------------------------ 10.2/44.8 kB ? eta -:--:--\n",
      "   ------------------ --------------------- 20.5/44.8 kB 222.6 kB/s eta 0:00:01\n",
      "   --------------------------- ------------ 30.7/44.8 kB 262.6 kB/s eta 0:00:01\n",
      "   --------------------------- ------------ 30.7/44.8 kB 262.6 kB/s eta 0:00:01\n",
      "   ---------------------------------------- 44.8/44.8 kB 170.1 kB/s eta 0:00:00\n",
      "Installing collected packages: pymysql\n",
      "Successfully installed pymysql-1.1.0\n",
      "Note: you may need to restart the kernel to use updated packages.\n"
     ]
    }
   ],
   "source": [
    "pip install pymysql"
   ]
  },
  {
   "cell_type": "code",
   "execution_count": 6,
   "id": "1bed459d",
   "metadata": {},
   "outputs": [],
   "source": [
    "# Importing numpy and pymysql \n",
    "import numpy as np\n",
    "import pymysql"
   ]
  },
  {
   "cell_type": "code",
   "execution_count": 7,
   "id": "ddcdcd22",
   "metadata": {},
   "outputs": [],
   "source": [
    "# Connection between python and MySQL\n",
    "myconnection = pymysql.connect(host = \"127.0.0.1\",user = \"root\",passwd = \"Aradhana@2509\")"
   ]
  },
  {
   "cell_type": "code",
   "execution_count": 8,
   "id": "4ecf2a11",
   "metadata": {},
   "outputs": [],
   "source": [
    "cur = myconnection.cursor()"
   ]
  },
  {
   "cell_type": "code",
   "execution_count": 15,
   "id": "65d39640",
   "metadata": {},
   "outputs": [],
   "source": [
    "#Creating New Database\n",
    "cur.execute(\"create database PhoneBook_Records\");"
   ]
  },
  {
   "cell_type": "code",
   "execution_count": 9,
   "id": "6199de38",
   "metadata": {},
   "outputs": [],
   "source": [
    "cur.execute(\"use PhoneBook_Records\");"
   ]
  },
  {
   "cell_type": "code",
   "execution_count": 10,
   "id": "4dc08642",
   "metadata": {},
   "outputs": [],
   "source": [
    "# Makes connection with our Database Named : \"PhoneBook_Records\"\n",
    "myconnection = pymysql.connect(host = \"127.0.0.1\",user = \"root\",passwd = \"Aradhana@2509\",database = \"PhoneBook_Records\");"
   ]
  },
  {
   "cell_type": "code",
   "execution_count": 11,
   "id": "41e72b50",
   "metadata": {},
   "outputs": [],
   "source": [
    "cur = myconnection.cursor()"
   ]
  },
  {
   "cell_type": "markdown",
   "id": "ae7a188e",
   "metadata": {},
   "source": [
    "# CREATE TABLE"
   ]
  },
  {
   "cell_type": "code",
   "execution_count": 45,
   "id": "98152ad2",
   "metadata": {},
   "outputs": [
    {
     "data": {
      "text/plain": [
       "0"
      ]
     },
     "execution_count": 45,
     "metadata": {},
     "output_type": "execute_result"
    }
   ],
   "source": [
    "# Create table named Phone_Records\n",
    "cur.execute(\"create table Phone_Records(Name varchar(50),Email varchar(50),Phone1 varchar(20),Phone2 varchar(20))\")"
   ]
  },
  {
   "cell_type": "markdown",
   "id": "9d5020bc",
   "metadata": {},
   "source": [
    "# INSERT THE DATAFRAME(TABLE) FROM PYTHON TO DATABASE"
   ]
  },
  {
   "cell_type": "code",
   "execution_count": 46,
   "id": "a686b607",
   "metadata": {},
   "outputs": [],
   "source": [
    "# Inserts values into table named Phone_Records\n",
    "sql=\"insert into Phone_Records(Name,Email,Phone1,Phone2)values(%s,%s,%s,%s)\";"
   ]
  },
  {
   "cell_type": "code",
   "execution_count": 47,
   "id": "a883d7c0",
   "metadata": {},
   "outputs": [],
   "source": [
    "# Used loop condition for inserting rows from CSV file\n",
    "for i in range(0,len(Phone_Records)):\n",
    "    cur.execute(sql,tuple(Phone_Records.iloc[i]))\n",
    "    myconnection.commit()\n",
    "# Inserted successfully"
   ]
  },
  {
   "cell_type": "markdown",
   "id": "085565c3",
   "metadata": {},
   "source": [
    "# 2.1\n",
    "SELECT * FROM phone_records; This statement reads the first 10 records and displays them\n",
    "on the console."
   ]
  },
  {
   "cell_type": "code",
   "execution_count": 47,
   "id": "3ce2dd61",
   "metadata": {},
   "outputs": [],
   "source": [
    "# Displays only first 10 records from table\n",
    "cur.execute(\"SELECT * FROM Phone_Records ORDER BY Name LIMIT 10\"); "
   ]
  },
  {
   "cell_type": "code",
   "execution_count": 48,
   "id": "21a6bcdb",
   "metadata": {},
   "outputs": [
    {
     "name": "stdout",
     "output_type": "stream",
     "text": [
      "('Aradhana', 'Aradhana25@gmail.com', '9367906789', '7809875345')\n",
      "('Aravind', 'aravind784@gmail.com', '9412085334', '8342318888')\n",
      "('Baladhandapani', 'bala1948@gmail.com', '8764904578', '9764285557')\n",
      "('John', 'john12@gmail.com', '8761122208', '9123457899')\n",
      "('Karthika priyadharshini', 'karthikapriya1@gmail.com', '8148642615', '6380278156')\n",
      "('Parimala ', 'parimala12@gmail.com', '8237569990', '8754907536')\n",
      "('Pranesh', 'pranesh1895@gmail.com', '9944489573', '9786543568')\n",
      "('Roby', 'roby34@gmail.com', '9568738833', '9567833988')\n",
      "('Shobana', 'abc22@gmail.com', '9747734667', '7866695679')\n",
      "('valli', 'valli009@gmail.com', '8394002022', '9034758992')\n"
     ]
    }
   ],
   "source": [
    "# Used for loops for fetching first 10 rows\n",
    "rows=cur.fetchall()\n",
    "for row in rows:\n",
    "    print(row)\n"
   ]
  },
  {
   "cell_type": "markdown",
   "id": "c42ee7d5",
   "metadata": {},
   "source": [
    "# READ THE TABLE FROM DATABASE"
   ]
  },
  {
   "cell_type": "markdown",
   "id": "0fa9b77c",
   "metadata": {},
   "source": [
    "# Tuple View"
   ]
  },
  {
   "cell_type": "code",
   "execution_count": 48,
   "id": "62c5d5b9",
   "metadata": {},
   "outputs": [
    {
     "name": "stdout",
     "output_type": "stream",
     "text": [
      "('Karthika priyadharshini', 'karthikapriya1@gmail.com', '8148642615', '6380278156')\n",
      "('Aradhana', 'Aradhana25@gmail.com', '9367906789', '7809875345')\n",
      "('Parimala ', 'parimala12@gmail.com', '8237569990', '8754907536')\n",
      "('Pranesh', 'pranesh1895@gmail.com', '9944489573', '9786543568')\n",
      "('Baladhandapani', 'bala1948@gmail.com', '8764904578', '9764285557')\n",
      "('Yuvaraj', 'raj211984@gmail.com', '8629076622', '9788207652')\n",
      "('Shobana', 'abc22@gmail.com', '9747734667', '7866695679')\n",
      "('John', 'john12@gmail.com', '8546890343', '9123457899')\n",
      "('Roby', 'roby34@gmail.com', '9765785767', '9567833988')\n",
      "('valli', 'valli009@gmail.com', '8394002022', '9034758992')\n",
      "('savitha', 'savi223@gmail.com', '8945459606', '9867333321')\n"
     ]
    }
   ],
   "source": [
    "# Used loop condition for Reading the values got inserted(view in tuple)  - Table name :Phone_Records\n",
    "for i in range(0,len(Phone_Records)):\n",
    "    print(tuple(Phone_Records.iloc[i]))"
   ]
  },
  {
   "cell_type": "markdown",
   "id": "652c6c6d",
   "metadata": {},
   "source": [
    "# View with index location & data type"
   ]
  },
  {
   "cell_type": "code",
   "execution_count": 49,
   "id": "144c12ed",
   "metadata": {},
   "outputs": [
    {
     "name": "stdout",
     "output_type": "stream",
     "text": [
      "Name        Karthika priyadharshini\n",
      "Email      karthikapriya1@gmail.com\n",
      "Phone 1                  8148642615\n",
      "Phone 2                  6380278156\n",
      "Name: 0, dtype: object\n",
      "Name                   Aradhana\n",
      "Email      Aradhana25@gmail.com\n",
      "Phone 1              9367906789\n",
      "Phone 2              7809875345\n",
      "Name: 1, dtype: object\n",
      "Name                  Parimala \n",
      "Email      parimala12@gmail.com\n",
      "Phone 1              8237569990\n",
      "Phone 2              8754907536\n",
      "Name: 2, dtype: object\n",
      "Name                     Pranesh\n",
      "Email      pranesh1895@gmail.com\n",
      "Phone 1               9944489573\n",
      "Phone 2               9786543568\n",
      "Name: 3, dtype: object\n",
      "Name           Baladhandapani\n",
      "Email      bala1948@gmail.com\n",
      "Phone 1            8764904578\n",
      "Phone 2            9764285557\n",
      "Name: 4, dtype: object\n",
      "Name                   Yuvaraj\n",
      "Email      raj211984@gmail.com\n",
      "Phone 1             8629076622\n",
      "Phone 2             9788207652\n",
      "Name: 5, dtype: object\n",
      "Name               Shobana\n",
      "Email      abc22@gmail.com\n",
      "Phone 1         9747734667\n",
      "Phone 2         7866695679\n",
      "Name: 6, dtype: object\n",
      "Name                   John\n",
      "Email      john12@gmail.com\n",
      "Phone 1          8546890343\n",
      "Phone 2          9123457899\n",
      "Name: 7, dtype: object\n",
      "Name                   Roby\n",
      "Email      roby34@gmail.com\n",
      "Phone 1          9765785767\n",
      "Phone 2          9567833988\n",
      "Name: 8, dtype: object\n",
      "Name                    valli\n",
      "Email      valli009@gmail.com\n",
      "Phone 1            8394002022\n",
      "Phone 2            9034758992\n",
      "Name: 9, dtype: object\n",
      "Name                 savitha\n",
      "Email      savi223@gmail.com\n",
      "Phone 1           8945459606\n",
      "Phone 2           9867333321\n",
      "Name: 10, dtype: object\n"
     ]
    }
   ],
   "source": [
    "# Used loop condition for Reading the values got inserted(index and datatype displayed) - Table name :Phone_Records\n",
    "for i in range(0,len(Phone_Records)):\n",
    "    print(Phone_Records.iloc[i])"
   ]
  },
  {
   "cell_type": "markdown",
   "id": "26987e8c",
   "metadata": {},
   "source": [
    "# 2.2\n",
    "SELECT * FROM phone_records WHERE name=’Test’; this statement filters the records and\n",
    "displays the record(s) where ‘Test’ is found."
   ]
  },
  {
   "cell_type": "code",
   "execution_count": 60,
   "id": "f088514a",
   "metadata": {},
   "outputs": [],
   "source": [
    "cur.execute('Select * FROM phone_records WHERE name= \"Test\"');"
   ]
  },
  {
   "cell_type": "code",
   "execution_count": 61,
   "id": "ac4eaa34",
   "metadata": {},
   "outputs": [
    {
     "name": "stdout",
     "output_type": "stream",
     "text": [
      "Selected Row: ('Test', 'test@test.xtyz', '1234456', '1233233')\n"
     ]
    }
   ],
   "source": [
    "# Fetch the result\n",
    "row = cur.fetchone()\n",
    "\n",
    "# Check if the row exists\n",
    "if row:\n",
    "    print(\"Selected Row:\", row)\n",
    "else:\n",
    "    print(\"Row not found.\")\n",
    "# Got the output which satisfies the condition and the row we have inserted in 2.3 problem "
   ]
  },
  {
   "cell_type": "markdown",
   "id": "6dfd19de",
   "metadata": {},
   "source": [
    "# UPDATE COMMAND"
   ]
  },
  {
   "cell_type": "code",
   "execution_count": 22,
   "id": "b99ced49",
   "metadata": {},
   "outputs": [],
   "source": [
    "cur.execute(\"UPDATE Phone_Records SET Phone1 = '8761122208'WHERE Name = 'John'\");"
   ]
  },
  {
   "cell_type": "code",
   "execution_count": 23,
   "id": "f0fde756",
   "metadata": {},
   "outputs": [],
   "source": [
    "myconnection.commit()"
   ]
  },
  {
   "cell_type": "code",
   "execution_count": 28,
   "id": "c199fa7b",
   "metadata": {},
   "outputs": [],
   "source": [
    "# After Update Check whether values got updated frome field Name : John\n",
    "cur.execute(\"Select*from Phone_Records\");"
   ]
  },
  {
   "cell_type": "code",
   "execution_count": 29,
   "id": "583a16b8",
   "metadata": {},
   "outputs": [
    {
     "name": "stdout",
     "output_type": "stream",
     "text": [
      "('Karthika priyadharshini', 'karthikapriya1@gmail.com', '8148642615', '6380278156')\n",
      "('Aradhana', 'Aradhana25@gmail.com', '9367906789', '7809875345')\n",
      "('Parimala ', 'parimala12@gmail.com', '8237569990', '8754907536')\n",
      "('Pranesh', 'pranesh1895@gmail.com', '9944489573', '9786543568')\n",
      "('Baladhandapani', 'bala1948@gmail.com', '8764904578', '9764285557')\n",
      "('Yuvaraj', 'raj211984@gmail.com', '8629076622', '9788207652')\n",
      "('Shobana', 'abc22@gmail.com', '9747734667', '7866695679')\n",
      "('John', 'john12@gmail.com', '8761122208', '9123457899')\n",
      "('Roby', 'roby34@gmail.com', '9568738833', '9567833988')\n",
      "('valli', 'valli009@gmail.com', '8394002022', '9034758992')\n",
      "('savitha', 'savi223@gmail.com', '8761122208', '9867333321')\n"
     ]
    }
   ],
   "source": [
    "# Used for loops for fetching all rows\n",
    "rows=cur.fetchall()\n",
    "for row in rows:\n",
    "    print(row)\n",
    "# In the output ,  the values are updated in the given condition"
   ]
  },
  {
   "cell_type": "markdown",
   "id": "eb6864fd",
   "metadata": {},
   "source": [
    "# INSERT COMMAND"
   ]
  },
  {
   "cell_type": "markdown",
   "id": "d4037743",
   "metadata": {},
   "source": [
    "# 2.3\n",
    "INSERT INTO phone_records(name, email,phone 1, phone 2)\n",
    "VALUES(‘Test’,’test@test.xtyz’,’1234456’,’1233233’)\n",
    "This statement should create a new entry in the dataset and the same should be obtained\n",
    "when execuNng secNon 2.2 (i.e. the previous example)"
   ]
  },
  {
   "cell_type": "code",
   "execution_count": 56,
   "id": "bcbb8a55",
   "metadata": {},
   "outputs": [],
   "source": [
    "cur.execute(\"INSERT INTO Phone_Records(Name,Email,Phone1,Phone2) VALUES ('Test','test@test.xtyz','1234456','1233233');\");"
   ]
  },
  {
   "cell_type": "code",
   "execution_count": 57,
   "id": "ac51b481",
   "metadata": {},
   "outputs": [],
   "source": [
    "myconnection.commit()"
   ]
  },
  {
   "cell_type": "code",
   "execution_count": 58,
   "id": "cfa4bd74",
   "metadata": {},
   "outputs": [],
   "source": [
    "cur.execute(\"Select*from Phone_Records\");"
   ]
  },
  {
   "cell_type": "code",
   "execution_count": 59,
   "id": "184b29b9",
   "metadata": {},
   "outputs": [
    {
     "name": "stdout",
     "output_type": "stream",
     "text": [
      "('Karthika priyadharshini', 'karthikapriya1@gmail.com', '8148642615', '6380278156')\n",
      "('Aradhana', 'Aradhana25@gmail.com', '9367906789', '7809875345')\n",
      "('Parimala ', 'parimala12@gmail.com', '8237569990', '8754907536')\n",
      "('Pranesh', 'pranesh1895@gmail.com', '9944489573', '9786543568')\n",
      "('Baladhandapani', 'bala1948@gmail.com', '8764904578', '9764285557')\n",
      "('Yuvaraj', 'raj211984@gmail.com', '8629076622', '9788207652')\n",
      "('Shobana', 'abc22@gmail.com', '9747734667', '7866695679')\n",
      "('John', 'john12@gmail.com', '8761122208', '9123457899')\n",
      "('Roby', 'roby34@gmail.com', '9568738833', '9567833988')\n",
      "('valli', 'valli009@gmail.com', '8394002022', '9034758992')\n",
      "('Aravind', 'aravind784@gmail.com', '9412085334', '8342318888')\n",
      "('Test', 'test@test.xtyz', '1234456', '1233233')\n"
     ]
    }
   ],
   "source": [
    "# Used for loops for fetching all rows\n",
    "\n",
    "rows=cur.fetchall()\n",
    "for row in rows:\n",
    "    print(row)\n",
    "    \n",
    "# In the output , the values are Inserted in the given condition\n"
   ]
  },
  {
   "cell_type": "markdown",
   "id": "9337382e",
   "metadata": {},
   "source": [
    "# DELETE COMMAND"
   ]
  },
  {
   "cell_type": "markdown",
   "id": "9bd67c99",
   "metadata": {},
   "source": [
    "# 2.4\n",
    "DELETE FROM phone_records WHERE name=’John’\n",
    "This statement should delete the record from the dataset."
   ]
  },
  {
   "cell_type": "code",
   "execution_count": 63,
   "id": "ab5a982e",
   "metadata": {},
   "outputs": [],
   "source": [
    "cur.execute(\"Delete from Phone_Records WHERE Name ='John'\");"
   ]
  },
  {
   "cell_type": "code",
   "execution_count": 64,
   "id": "4a2cfad0",
   "metadata": {},
   "outputs": [],
   "source": [
    "myconnection.commit()"
   ]
  },
  {
   "cell_type": "code",
   "execution_count": 65,
   "id": "2dba61d2",
   "metadata": {},
   "outputs": [],
   "source": [
    "# After Delete Check whether values got Deleted\n",
    "cur.execute(\"Select*from Phone_Records\");"
   ]
  },
  {
   "cell_type": "code",
   "execution_count": 66,
   "id": "541d54a6",
   "metadata": {},
   "outputs": [
    {
     "name": "stdout",
     "output_type": "stream",
     "text": [
      "('Karthika priyadharshini', 'karthikapriya1@gmail.com', '8148642615', '6380278156')\n",
      "('Aradhana', 'Aradhana25@gmail.com', '9367906789', '7809875345')\n",
      "('Parimala ', 'parimala12@gmail.com', '8237569990', '8754907536')\n",
      "('Pranesh', 'pranesh1895@gmail.com', '9944489573', '9786543568')\n",
      "('Baladhandapani', 'bala1948@gmail.com', '8764904578', '9764285557')\n",
      "('Yuvaraj', 'raj211984@gmail.com', '8629076622', '9788207652')\n",
      "('Shobana', 'abc22@gmail.com', '9747734667', '7866695679')\n",
      "('Roby', 'roby34@gmail.com', '9568738833', '9567833988')\n",
      "('valli', 'valli009@gmail.com', '8394002022', '9034758992')\n",
      "('Aravind', 'aravind784@gmail.com', '9412085334', '8342318888')\n",
      "('Test', 'test@test.xtyz', '1234456', '1233233')\n"
     ]
    }
   ],
   "source": [
    "# Used for loops for fetching all rows\n",
    "rows=cur.fetchall()\n",
    "for row in rows:\n",
    "    print(row)\n",
    "# In the output , the values are Deleted in the given condition"
   ]
  },
  {
   "cell_type": "markdown",
   "id": "298540ab",
   "metadata": {},
   "source": [
    "# ANOTHER METHOD\n",
    "Using Classes & Methods ==>> Table creation and Performed CRUD opertion using def Function"
   ]
  },
  {
   "cell_type": "code",
   "execution_count": 46,
   "id": "7b91875d",
   "metadata": {},
   "outputs": [
    {
     "name": "stdout",
     "output_type": "stream",
     "text": [
      "Table: Phonebook_Records\n",
      "Columns: ['Name', 'Email', 'Phone1', 'Phone2']\n",
      "Data:\n",
      "{'Name': 'Karthika priyadharshini', 'Email': 'karthikapriya1@gmail.com', 'Phone1': 8148642615, 'Phone2': 6380278156}\n",
      "{'Name': 'Aradhana', 'Email': 'Aradhana25@gmail.com', 'Phone1': 9367906789, 'Phone2': 7809875345}\n",
      "{'Name': 'Parimala', 'Email': 'parimala12@gmail.com', 'Phone1': 8237569990, 'Phone2': 8754907536}\n",
      "{'Name': 'Pranesh', 'Email': 'pranesh1895@gmail.com', 'Phone1': 9944489573, 'Phone2': 9786543568}\n",
      "{'Name': 'Baladhandapani', 'Email': 'bala1948@gmail.com', 'Phone1': 8764904578, 'Phone2': 9764285557}\n",
      "{'Name': 'Yuvaraj', 'Email': 'raj211984@gmail.com', 'Phone1': 8629076622, 'Phone2': 9788207652}\n",
      "{'Name': 'Shobana', 'Email': 'abc22@gmail.com', 'Phone1': 9747734667, 'Phone2': 7866695679}\n",
      "{'Name': 'John', 'Email': 'john12@gmail.com', 'Phone1': 8546890343, 'Phone2': 9123457899}\n",
      "{'Name': 'Roby', 'Email': 'roby34@gmail.com', 'Phone1': 9765785767, 'Phone2': 9567833988}\n",
      "{'Name': 'Valli', 'Email': 'valli009@gmail.com', 'Phone1': 8394002022, 'Phone2': 9034758992}\n",
      "\n",
      "\n",
      "Updated row in Table ==>> Name : John , Column : Phone1\n",
      "Table: Phonebook_Records\n",
      "Columns: ['Name', 'Email', 'Phone1', 'Phone2']\n",
      "Data:\n",
      "{'Name': 'Karthika priyadharshini', 'Email': 'karthikapriya1@gmail.com', 'Phone1': 8148642615, 'Phone2': 6380278156}\n",
      "{'Name': 'Aradhana', 'Email': 'Aradhana25@gmail.com', 'Phone1': 9367906789, 'Phone2': 7809875345}\n",
      "{'Name': 'Parimala', 'Email': 'parimala12@gmail.com', 'Phone1': 8237569990, 'Phone2': 8754907536}\n",
      "{'Name': 'Pranesh', 'Email': 'pranesh1895@gmail.com', 'Phone1': 9944489573, 'Phone2': 9786543568}\n",
      "{'Name': 'Baladhandapani', 'Email': 'bala1948@gmail.com', 'Phone1': 8764904578, 'Phone2': 9764285557}\n",
      "{'Name': 'Yuvaraj', 'Email': 'raj211984@gmail.com', 'Phone1': 8629076622, 'Phone2': 9788207652}\n",
      "{'Name': 'Shobana', 'Email': 'abc22@gmail.com', 'Phone1': 9747734667, 'Phone2': 7866695679}\n",
      "{'Name': 'John', 'Email': 'smilejohn90@gmail.com', 'Phone1': 8546890343, 'Phone2': 9123457899}\n",
      "{'Name': 'Roby', 'Email': 'roby34@gmail.com', 'Phone1': 9765785767, 'Phone2': 9567833988}\n",
      "{'Name': 'Valli', 'Email': 'valli009@gmail.com', 'Phone1': 8394002022, 'Phone2': 9034758992}\n",
      "\n",
      "\n",
      "Deleted column in Table ==>> Name : Valli\n",
      "Table: Phonebook_Records\n",
      "Columns: ['Name', 'Email', 'Phone1', 'Phone2']\n",
      "Data:\n",
      "{'Name': 'Karthika priyadharshini', 'Email': 'karthikapriya1@gmail.com', 'Phone1': 8148642615, 'Phone2': 6380278156}\n",
      "{'Name': 'Aradhana', 'Email': 'Aradhana25@gmail.com', 'Phone1': 9367906789, 'Phone2': 7809875345}\n",
      "{'Name': 'Parimala', 'Email': 'parimala12@gmail.com', 'Phone1': 8237569990, 'Phone2': 8754907536}\n",
      "{'Name': 'Pranesh', 'Email': 'pranesh1895@gmail.com', 'Phone1': 9944489573, 'Phone2': 9786543568}\n",
      "{'Name': 'Baladhandapani', 'Email': 'bala1948@gmail.com', 'Phone1': 8764904578, 'Phone2': 9764285557}\n",
      "{'Name': 'Yuvaraj', 'Email': 'raj211984@gmail.com', 'Phone1': 8629076622, 'Phone2': 9788207652}\n",
      "{'Name': 'Shobana', 'Email': 'abc22@gmail.com', 'Phone1': 9747734667, 'Phone2': 7866695679}\n",
      "{'Name': 'John', 'Email': 'smilejohn90@gmail.com', 'Phone1': 8546890343, 'Phone2': 9123457899}\n",
      "{'Name': 'Roby', 'Email': 'roby34@gmail.com', 'Phone1': 9765785767, 'Phone2': 9567833988}\n"
     ]
    }
   ],
   "source": [
    "class Phonebook_Database:\n",
    "    def __init__(self):\n",
    "        self.tables = {}\n",
    "\n",
    "    def create_table(self,Phonebook_Records, columns): # Function for Create \n",
    "        self.tables[Phonebook_Records] = {'columns': columns, 'data': []}\n",
    "\n",
    "    def insert_into(self,Phonebook_Records, values): # Function for Inserting\n",
    "        table = self.tables[Phonebook_Records]\n",
    "        if len(values) != len(table['columns']):\n",
    "            raise ValueError('Number of values does not match the number of columns.')\n",
    "\n",
    "        row = dict(zip(table['columns'], values))\n",
    "        table['data'].append(row)\n",
    "\n",
    "    def select_all_from(self,Phonebook_Records): # Function for reading\n",
    "        table = self.tables.get(Phonebook_Records)\n",
    "        if table:\n",
    "            return table['data']\n",
    "        else:\n",
    "            raise ValueError(f\"Table '{Phonebook_Records}' does not exist.\")\n",
    "\n",
    "    def update(self,Phonebook_Records, set_values, where_condition): # function for Updating\n",
    "        table = self.tables.get(Phonebook_Records)\n",
    "        if table:\n",
    "            for row in table['data']:\n",
    "                if all(row[column] == value for column, value in where_condition.items()):\n",
    "                    row.update(set_values)\n",
    "        else:\n",
    "            raise ValueError(f\"Table '{Phonebook_Records}' does not exist.\")\n",
    "\n",
    "    def delete_from(self,Phonebook_Records, where_condition): # Function for Deleting\n",
    "        table = self.tables.get(Phonebook_Records)\n",
    "        if table:\n",
    "            table['data'] = [row for row in table['data'] if not all(row[column] == value for column, value in where_condition.items())]\n",
    "        else:\n",
    "            raise ValueError(f\"Table '{Phonebook_Records}' does not exist.\")\n",
    "\n",
    "    def print_table(self,Phonebook_Records): # Function for displaying all records in table\n",
    "        table = self.tables.get(Phonebook_Records)\n",
    "        if table:\n",
    "            print(f\"Table: {Phonebook_Records}\")\n",
    "            print(\"Columns:\", table['columns'])\n",
    "            print(\"Data:\")\n",
    "            for row in table['data']:\n",
    "                print(row)\n",
    "        else:\n",
    "            raise ValueError(f\"Table '{Phonebook_Records}' does not exist.\")\n",
    "\n",
    "\n",
    "# Creating and inserting in table:\n",
    "db = Phonebook_Database()\n",
    "db.create_table('Phonebook_Records', ['Name', 'Email', 'Phone1','Phone2'])\n",
    "db.insert_into('Phonebook_Records', ['Karthika priyadharshini','karthikapriya1@gmail.com',8148642615,6380278156])\n",
    "db.insert_into('Phonebook_Records', ['Aradhana','Aradhana25@gmail.com',9367906789,7809875345])\n",
    "db.insert_into('Phonebook_Records', ['Parimala','parimala12@gmail.com',8237569990,8754907536])\n",
    "db.insert_into('Phonebook_Records', ['Pranesh','pranesh1895@gmail.com',9944489573,9786543568])\n",
    "db.insert_into('Phonebook_Records', ['Baladhandapani','bala1948@gmail.com',8764904578,9764285557])\n",
    "db.insert_into('Phonebook_Records', ['Yuvaraj','raj211984@gmail.com',8629076622,9788207652])\n",
    "db.insert_into('Phonebook_Records', ['Shobana','abc22@gmail.com',9747734667,7866695679])\n",
    "db.insert_into('Phonebook_Records', ['John','john12@gmail.com',8546890343,9123457899])\n",
    "db.insert_into('Phonebook_Records', ['Roby','roby34@gmail.com',9765785767,9567833988])\n",
    "db.insert_into('Phonebook_Records', ['Valli','valli009@gmail.com',8394002022,9034758992])\n",
    "\n",
    "\n",
    "\n",
    "db.print_table('Phonebook_Records')\n",
    "print(\"\\n\")\n",
    "\n",
    "# Update Syntax\n",
    "print(\"Updated row in Table ==>> Name : John , Column : Phone1\")\n",
    "db.update('Phonebook_Records', {'Email': 'smilejohn90@gmail.com'}, {'Name':'John'})\n",
    "db.print_table('Phonebook_Records')\n",
    "\n",
    "# Delete syntax\n",
    "print(\"\\n\")\n",
    "print(\"Deleted column in Table ==>> Name : Valli\")\n",
    "db.delete_from('Phonebook_Records', {'Name': 'Valli'})\n",
    "db.print_table('Phonebook_Records')\n"
   ]
  },
  {
   "cell_type": "code",
   "execution_count": null,
   "id": "1a2a36ab",
   "metadata": {},
   "outputs": [],
   "source": [
    "********************************************** END *************************************************************************"
   ]
  }
 ],
 "metadata": {
  "kernelspec": {
   "display_name": "Python 3 (ipykernel)",
   "language": "python",
   "name": "python3"
  },
  "language_info": {
   "codemirror_mode": {
    "name": "ipython",
    "version": 3
   },
   "file_extension": ".py",
   "mimetype": "text/x-python",
   "name": "python",
   "nbconvert_exporter": "python",
   "pygments_lexer": "ipython3",
   "version": "3.11.5"
  }
 },
 "nbformat": 4,
 "nbformat_minor": 5
}
